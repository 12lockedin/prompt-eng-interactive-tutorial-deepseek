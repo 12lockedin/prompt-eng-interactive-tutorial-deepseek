{
 "cells": [
  {
   "cell_type": "markdown",
   "metadata": {},
   "source": [
    "# Appendix 10.2: Tool Use\n",
    "\n",
    "- [Lesson](#lesson)\n",
    "- [Exercises](#exercises)\n",
    "- [Example Playground](#example-playground)\n",
    "\n",
    "## Setup\n",
    "\n",
    "Run the following setup cell to load your API key and establish the `get_completion` helper function."
   ]
  },
  {
   "cell_type": "code",
   "execution_count": null,
   "metadata": {},
   "outputs": [],
   "source": [
    "from dotenv import load_dotenv\n",
    "import os\n",
    "import re\n",
    "from openai import OpenAI\n",
    "\n",
    "# Load variables from .env\n",
    "load_dotenv()\n",
    "\n",
    "# Access variables\n",
    "API_KEY = os.getenv(\"API_KEY\")\n",
    "BASE_URL = \"https://api.deepseek.com\"\n",
    "MODEL_NAME = \"deepseek-chat\"\n",
    "\n",
    "# Store the API_KEY, BASE_URL & MODEL_NAME variables for use across notebooks within the IPython store\n",
    "%store API_KEY\n",
    "%store BASE_URL\n",
    "%store MODEL_NAME\n",
    "\n",
    "# Initialize the client\n",
    "client = OpenAI(api_key=API_KEY, base_url=BASE_URL)\n",
    "\n",
    "# Helper function to get completions from DeepSeek\n",
    "def get_completion(messages, system_prompt=\"\", prefill=\"\", stop_sequences=None):\n",
    "    # Add system prompt as a system message if provided\n",
    "    if system_prompt:\n",
    "        full_messages = [{\"role\": \"system\", \"content\": system_prompt}] + messages\n",
    "    else:\n",
    "        full_messages = messages\n",
    "    \n",
    "    response = client.chat.completions.create(\n",
    "        model=MODEL_NAME,\n",
    "        messages=full_messages,\n",
    "        max_tokens=2000,\n",
    "        temperature=0.0,\n",
    "        stop=stop_sequences\n",
    "    )\n",
    "    \n",
    "    return response.choices[0].message.content"
   ]
  },
  {
   "cell_type": "markdown",
   "metadata": {},
   "source": [
    "---\n",
    "\n",
    "## Lesson\n",
    "\n",
    "While it might seem conceptually complex at first, tool use, a.k.a. function calling, is actually quite simple! You already know all the skills necessary to implement tool use, which is really just a combination of substitution and prompt chaining.\n",
    "\n",
    "In previous substitution exercises, we substituted text into prompts. With tool use, we substitute tool or function results into prompts. The model can't literally call or access tools and functions. Instead, we have the model:\n",
    "1. Output the tool name and arguments it wants to call\n",
    "2. Halt any further response generation while the tool is called\n",
    "3. Then we reprompt with the appended tool results"
   ]
  },
  {
   "cell_type": "markdown",
   "metadata": {},
   "source": [
    "Function calling is useful because it expands the model's capabilities and enables it to handle much more complex, multi-step tasks.\n",
    "Some examples of functions you can give the model:\n",
    "- Calculator\n",
    "- Word counter\n",
    "- SQL database querying and data retrieval\n",
    "- Weather API"
   ]
  },
  {
   "cell_type": "markdown",
   "metadata": {},
   "source": [
    "You can get the model to do tool use by combining these two elements:\n",
    "\n",
    "1. A system prompt, in which we give the model an explanation of the concept of tool use as well as a detailed descriptive list of the tools it has access to\n",
    "2. The control logic with which to orchestrate and execute the model's tool use requests"
   ]
  },
  {
   "cell_type": "markdown",
   "metadata": {},
   "source": [
    "### Examples\n",
    "\n",
    "To enable tool use with DeepSeek, we start with the system prompt. In this special tool use system prompt, we tell the model:\n",
    "* The basic premise of tool use and what it entails\n",
    "* How it can call and use the tools it's been given\n",
    "* A detailed list of tools it has access to in this specific scenario \n",
    "\n",
    "Here's the first part of the system prompt, explaining tool use to the model. This part of the system prompt is generalizable across all instances of prompting for tool use."
   ]
  },
  {
   "cell_type": "code",
   "execution_count": 2,
   "metadata": {},
   "outputs": [],
   "source": [
    "system_prompt_tools_general_explanation = \"\"\"You have access to a set of tools you can use to answer the user's question. This includes access to a\n",
    "sandboxed computing environment. You do NOT currently have the ability to inspect files or interact with external\n",
    "resources, except by invoking the below functions.\n",
    "\n",
    "To call a function, respond with a JSON object matching the following schema:\n",
    "{\n",
    "  \"tool_calls\": [\n",
    "    {\n",
    "      \"type\": \"function\",\n",
    "      \"function\": {\n",
    "        \"name\": \"FUNCTION_NAME\",\n",
    "        \"arguments\": {\n",
    "          \"PARAM_NAME\": \"PARAM_VALUE\",\n",
    "          ...\n",
    "        }\n",
    "      }\n",
    "    }\n",
    "  ]\n",
    "}\n",
    "\n",
    "The output and/or any errors will appear in a subsequent reply from the user, and you should use that information to continue your response.\n",
    "If you need to call multiple functions, you should only call one at a time and wait for its response before calling another function.\"\"\""
   ]
  },
  {
   "cell_type": "markdown",
   "metadata": {},
   "source": [
    "Here's the second part of the system prompt, which defines the exact tools the model has access to in this specific situation. In this example, we will be giving it a calculator tool, which takes three parameters: two operands and an operator. \n",
    "\n",
    "Then we combine the two parts of the system prompt."
   ]
  },
  {
   "cell_type": "code",
   "execution_count": 3,
   "metadata": {},
   "outputs": [],
   "source": [
    "system_prompt_tools_specific_tools = \"\"\"Here are the functions available:\n",
    "\n",
    "calculator: Calculator function for doing basic arithmetic.\n",
    "  Parameters:\n",
    "    - first_operand (integer): First operand (before the operator)\n",
    "    - second_operand (integer): Second operand (after the operator)\n",
    "    - operator (string): The operation to perform. Must be either +, -, *, or /\n",
    "\"\"\"\n",
    "\n",
    "system_prompt = system_prompt_tools_general_explanation + system_prompt_tools_specific_tools"
   ]
  },
  {
   "cell_type": "markdown",
   "metadata": {},
   "source": [
    "Now we can give the model a question that requires use of the `calculator` tool. We will use a stop sequence to detect if and when it calls the function."
   ]
  },
  {
   "cell_type": "code",
   "execution_count": 4,
   "metadata": {},
   "outputs": [
    {
     "name": "stdout",
     "output_type": "stream",
     "text": [
      "{\n",
      "  \"tool_calls\": [\n",
      "    {\n",
      "      \"type\": \"function\",\n",
      "      \"function\": {\n",
      "        \"name\": \"calculator\",\n",
      "        \"arguments\": {\n",
      "          \"first_operand\": 1984135,\n",
      "          \"second_operand\": 9343116,\n",
      "          \"operator\": \"*\"\n",
      "        }\n",
      "      }\n",
      "    }\n",
      "  ]\n",
      "}\n"
     ]
    }
   ],
   "source": [
    "multiplication_message = {\n",
    "    \"role\": \"user\",\n",
    "    \"content\": \"Multiply 1,984,135 by 9,343,116\"\n",
    "}\n",
    "\n",
    "# Get the model's response\n",
    "function_calling_response = get_completion([multiplication_message], system_prompt=system_prompt)\n",
    "print(function_calling_response)"
   ]
  },
  {
   "cell_type": "markdown",
   "metadata": {},
   "source": [
    "Now, we can extract out the parameters from the model's function call and actually run the function on its behalf.\n",
    "\n",
    "First we'll define the function's code."
   ]
  },
  {
   "cell_type": "code",
   "execution_count": 5,
   "metadata": {},
   "outputs": [],
   "source": [
    "import json\n",
    "\n",
    "def do_pairwise_arithmetic(num1, num2, operation):\n",
    "    if operation == '+':\n",
    "        return num1 + num2\n",
    "    elif operation == \"-\":\n",
    "        return num1 - num2\n",
    "    elif operation == \"*\":\n",
    "        return num1 * num2\n",
    "    elif operation == \"/\":\n",
    "        return num1 / num2\n",
    "    else:\n",
    "        return \"Error: Operation not supported.\""
   ]
  },
  {
   "cell_type": "markdown",
   "metadata": {},
   "source": [
    "Then we'll extract the parameters from the model's function call response. If all the parameters exist, we run the calculator tool."
   ]
  },
  {
   "cell_type": "code",
   "execution_count": 6,
   "metadata": {},
   "outputs": [
    {
     "name": "stdout",
     "output_type": "stream",
     "text": [
      "---------------- RESULT ----------------\n",
      "18,538,003,464,660\n"
     ]
    }
   ],
   "source": [
    "def extract_function_call(response_text):\n",
    "    # Find the JSON object in the response\n",
    "    try:\n",
    "        # Try to find JSON within the text using regex\n",
    "        json_match = re.search(r'\\{\\s*\"tool_calls\".*\\}', response_text, re.DOTALL)\n",
    "        if json_match:\n",
    "            json_str = json_match.group(0)\n",
    "            return json.loads(json_str)\n",
    "        else:\n",
    "            # If no JSON with tool_calls found, try to parse the entire response as JSON\n",
    "            return json.loads(response_text)\n",
    "    except json.JSONDecodeError:\n",
    "        print(\"Could not parse JSON from response\")\n",
    "        return None\n",
    "\n",
    "# Extract function call details\n",
    "function_call = extract_function_call(function_calling_response)\n",
    "if function_call and 'tool_calls' in function_call:\n",
    "    function_name = function_call['tool_calls'][0]['function']['name']\n",
    "    arguments = function_call['tool_calls'][0]['function']['arguments']\n",
    "    \n",
    "    if function_name == 'calculator':\n",
    "        if isinstance(arguments, str):\n",
    "            arguments = json.loads(arguments)\n",
    "            \n",
    "        first_operand = arguments.get('first_operand')\n",
    "        second_operand = arguments.get('second_operand')\n",
    "        operator = arguments.get('operator')\n",
    "        \n",
    "        if first_operand is not None and second_operand is not None and operator:\n",
    "            result = do_pairwise_arithmetic(int(first_operand), int(second_operand), operator)\n",
    "            print(\"---------------- RESULT ----------------\")\n",
    "            print(f\"{result:,}\")"
   ]
  },
  {
   "cell_type": "markdown",
   "metadata": {},
   "source": [
    "Now that we have a result, we have to properly format that result so that when we pass it back to the model, it understands what tool that result is in relation to. "
   ]
  },
  {
   "cell_type": "code",
   "execution_count": 7,
   "metadata": {},
   "outputs": [
    {
     "name": "stdout",
     "output_type": "stream",
     "text": [
      "Function 'calculator' returned: 18538003464660\n"
     ]
    }
   ],
   "source": [
    "def format_tool_response(function_name, result):\n",
    "    return f\"Function '{function_name}' returned: {result}\"\n",
    "\n",
    "function_results = format_tool_response('calculator', result) if 'result' in locals() else \"\"\n",
    "print(function_results)"
   ]
  },
  {
   "cell_type": "markdown",
   "metadata": {},
   "source": [
    "Now all we have to do is send this result back to the model by appending the result to the same message chain as before, and we're good!"
   ]
  },
  {
   "cell_type": "code",
   "execution_count": 8,
   "metadata": {},
   "outputs": [
    {
     "name": "stdout",
     "output_type": "stream",
     "text": [
      "------------- FINAL RESULT -------------\n",
      "The result of multiplying **1,984,135** by **9,343,116** is **18,538,003,464,660**. Let me know if you need further assistance! 😊\n"
     ]
    }
   ],
   "source": [
    "# Construct the full conversation\n",
    "messages = [\n",
    "    multiplication_message,\n",
    "    {\"role\": \"assistant\", \"content\": function_calling_response},\n",
    "    {\"role\": \"user\", \"content\": function_results}\n",
    "]\n",
    "   \n",
    "# Print the model's response\n",
    "final_response = get_completion(messages, system_prompt=system_prompt)\n",
    "print(\"------------- FINAL RESULT -------------\")\n",
    "print(final_response)"
   ]
  },
  {
   "cell_type": "markdown",
   "metadata": {},
   "source": [
    "Congratulations on running an entire tool use chain end to end!\n",
    "\n",
    "Now what if we give the model a question that doesn't require using the given tool at all?"
   ]
  },
  {
   "cell_type": "code",
   "execution_count": 9,
   "metadata": {},
   "outputs": [
    {
     "name": "stdout",
     "output_type": "stream",
     "text": [
      "The capital of France is Paris. Let me know if you need more information!\n"
     ]
    }
   ],
   "source": [
    "non_multiplication_message = {\n",
    "    \"role\": \"user\",\n",
    "    \"content\": \"Tell me the capital of France.\"\n",
    "}\n",
    "\n",
    "# Get the model's response\n",
    "function_calling_response = get_completion([non_multiplication_message], system_prompt=system_prompt)\n",
    "print(function_calling_response)"
   ]
  },
  {
   "cell_type": "markdown",
   "metadata": {},
   "source": [
    "Success! As you can see, the model knew not to call the function when it wasn't needed.\n",
    "\n",
    "If you would like to experiment with the lesson prompts without changing any content above, scroll all the way to the bottom of the lesson notebook to visit the [**Example Playground**](#example-playground)."
   ]
  },
  {
   "cell_type": "markdown",
   "metadata": {},
   "source": [
    "---\n",
    "\n",
    "## Exercises\n",
    "- [Exercise 10.2.1 - SQL](#exercise-1021---SQL)"
   ]
  },
  {
   "cell_type": "markdown",
   "metadata": {},
   "source": [
    "### Exercise 10.2.1 - SQL\n",
    "In this exercise, you'll be writing a tool use prompt for querying and writing to the world's smallest \"database\". Here's the initialized database, which is really just a dictionary."
   ]
  },
  {
   "cell_type": "code",
   "execution_count": 10,
   "metadata": {},
   "outputs": [],
   "source": [
    "db = {\n",
    "    \"users\": [\n",
    "        {\"id\": 1, \"name\": \"Alice\", \"email\": \"alice@example.com\"},\n",
    "        {\"id\": 2, \"name\": \"Bob\", \"email\": \"bob@example.com\"},\n",
    "        {\"id\": 3, \"name\": \"Charlie\", \"email\": \"charlie@example.com\"}\n",
    "    ],\n",
    "    \"products\": [\n",
    "        {\"id\": 1, \"name\": \"Widget\", \"price\": 9.99},\n",
    "        {\"id\": 2, \"name\": \"Gadget\", \"price\": 14.99},\n",
    "        {\"id\": 3, \"name\": \"Doohickey\", \"price\": 19.99}\n",
    "    ]\n",
    "}"
   ]
  },
  {
   "cell_type": "markdown",
   "metadata": {},
   "source": [
    "And here is the code for the functions that write to and from the database."
   ]
  },
  {
   "cell_type": "code",
   "execution_count": 11,
   "metadata": {},
   "outputs": [],
   "source": [
    "def get_user(user_id):\n",
    "    for user in db[\"users\"]:\n",
    "        if user[\"id\"] == user_id:\n",
    "            return user\n",
    "    return None\n",
    "\n",
    "def get_product(product_id):\n",
    "    for product in db[\"products\"]:\n",
    "        if product[\"id\"] == product_id:\n",
    "            return product\n",
    "    return None\n",
    "\n",
    "def add_user(name, email):\n",
    "    user_id = len(db[\"users\"]) + 1\n",
    "    user = {\"id\": user_id, \"name\": name, \"email\": email}\n",
    "    db[\"users\"].append(user)\n",
    "    return user\n",
    "\n",
    "def add_product(name, price):\n",
    "    product_id = len(db[\"products\"]) + 1\n",
    "    product = {\"id\": product_id, \"name\": name, \"price\": price}\n",
    "    db[\"products\"].append(product)\n",
    "    return product"
   ]
  },
  {
   "cell_type": "markdown",
   "metadata": {},
   "source": [
    "To solve the exercise, start by defining a system prompt like `system_prompt_tools_specific_tools` above. Make sure to include the name and description of each tool, along with the name and type and description of each parameter for each function. We've given you some starting scaffolding below."
   ]
  },
  {
   "cell_type": "code",
   "execution_count": 13,
   "metadata": {},
   "outputs": [],
   "source": [
    "system_prompt_tools_specific_tools_sql = \"\"\"Here are the functions available:\n",
    "Get user: Returns the name of a user given its user ID\n",
    "    Name: get_user\n",
    "    Parameters: \n",
    "        - user_id (integer): ID of the desired user name\n",
    "\n",
    "Get product: Returns the name of a product given its product ID\n",
    "    Name: get_product\n",
    "    Paramters:\n",
    "        - product_id (integer): ID of the desired product\n",
    "\n",
    "Add user: Appends a new user to our users database with new email and name\n",
    "    Name: add_user\n",
    "    Parameters:\n",
    "        - name (string): Name of the new user\n",
    "        - email (string): Email of the new user\n",
    "\n",
    "Add product: Appends a new product to our products database\n",
    "    Name: add_product\n",
    "    Paramters:\n",
    "        - name (string): Name of the new product\n",
    "        - price (integer): Price of the new product\n",
    "\"\"\"\n",
    "\n",
    "system_prompt = system_prompt_tools_general_explanation + system_prompt_tools_specific_tools_sql"
   ]
  },
  {
   "cell_type": "markdown",
   "metadata": {},
   "source": [
    "When you're ready, you can try out your tool definition system prompt on the examples below. Just run the below cell!"
   ]
  },
  {
   "cell_type": "code",
   "execution_count": 19,
   "metadata": {},
   "outputs": [
    {
     "name": "stdout",
     "output_type": "stream",
     "text": [
      "Add a user to the database named Deborah. \n",
      "----------\n",
      "\n",
      " {\n",
      "  \"tool_calls\": [\n",
      "    {\n",
      "      \"type\": \"function\",\n",
      "      \"function\": {\n",
      "        \"name\": \"add_user\",\n",
      "        \"arguments\": {\n",
      "          \"name\": \"Deborah\",\n",
      "          \"email\": \"\"\n",
      "        }\n",
      "      }\n",
      "    }\n",
      "  ]\n",
      "} \n",
      "*********\n",
      "*********\n",
      "*********\n",
      "\n",
      "\n",
      "Add a product to the database named Thingo \n",
      "----------\n",
      "\n",
      " {\n",
      "  \"tool_calls\": [\n",
      "    {\n",
      "      \"type\": \"function\",\n",
      "      \"function\": {\n",
      "        \"name\": \"add_product\",\n",
      "        \"arguments\": {\n",
      "          \"name\": \"Thingo\",\n",
      "          \"price\": 0\n",
      "        }\n",
      "      }\n",
      "    }\n",
      "  ]\n",
      "} \n",
      "*********\n",
      "*********\n",
      "*********\n",
      "\n",
      "\n",
      "Tell me the name of User 2 \n",
      "----------\n",
      "\n",
      " {\n",
      "  \"tool_calls\": [\n",
      "    {\n",
      "      \"type\": \"function\",\n",
      "      \"function\": {\n",
      "        \"name\": \"get_user\",\n",
      "        \"arguments\": {\n",
      "          \"user_id\": 2\n",
      "        }\n",
      "      }\n",
      "    }\n",
      "  ]\n",
      "} \n",
      "*********\n",
      "*********\n",
      "*********\n",
      "\n",
      "\n",
      "The user is: Bob\n",
      "Tell me the name of Product 3 \n",
      "----------\n",
      "\n",
      " {\n",
      "  \"tool_calls\": [\n",
      "    {\n",
      "      \"type\": \"function\",\n",
      "      \"function\": {\n",
      "        \"name\": \"get_product\",\n",
      "        \"arguments\": {\n",
      "          \"product_id\": 3\n",
      "        }\n",
      "      }\n",
      "    }\n",
      "  ]\n",
      "} \n",
      "*********\n",
      "*********\n",
      "*********\n",
      "\n",
      "\n"
     ]
    }
   ],
   "source": [
    "db = {\n",
    "    \"users\": [\n",
    "        {\"id\": 1, \"name\": \"Alice\", \"email\": \"alice@example.com\"},\n",
    "        {\"id\": 2, \"name\": \"Bob\", \"email\": \"bob@example.com\"},\n",
    "        {\"id\": 3, \"name\": \"Charlie\", \"email\": \"charlie@example.com\"}\n",
    "    ],\n",
    "    \"products\": [\n",
    "        {\"id\": 1, \"name\": \"Widget\", \"price\": 9.99},\n",
    "        {\"id\": 2, \"name\": \"Gadget\", \"price\": 14.99},\n",
    "        {\"id\": 3, \"name\": \"Doohickey\", \"price\": 19.99}\n",
    "    ]\n",
    "}\n",
    "\n",
    "def get_user(user_id):\n",
    "    for user in db[\"users\"]:\n",
    "        if user[\"id\"] == user_id:\n",
    "            return user\n",
    "    return None\n",
    "\n",
    "def get_product(product_id):\n",
    "    for product in db[\"products\"]:\n",
    "        if product[\"id\"] == product_id:\n",
    "            return product\n",
    "    return None\n",
    "\n",
    "def add_user(name, email):\n",
    "    user_id = len(db[\"users\"]) + 1\n",
    "    user = {\"id\": user_id, \"name\": name, \"email\": email}\n",
    "    db[\"users\"].append(user)\n",
    "    return user\n",
    "\n",
    "def add_product(name, price):\n",
    "    product_id = len(db[\"products\"]) + 1\n",
    "    product = {\"id\": product_id, \"name\": name, \"price\": price}\n",
    "    db[\"products\"].append(product)\n",
    "    return product\n",
    "\n",
    "def extract_function_call(response_text):\n",
    "    # Find the JSON object in the response\n",
    "    try:\n",
    "        # Try to find JSON within the text using regex\n",
    "        json_match = re.search(r'\\{\\s*\"tool_calls\".*\\}', response_text, re.DOTALL)\n",
    "        if json_match:\n",
    "            json_str = json_match.group(0)\n",
    "            return json.loads(json_str)\n",
    "        else:\n",
    "            # If no JSON with tool_calls found, try to parse the entire response as JSON\n",
    "            return json.loads(response_text)\n",
    "    except json.JSONDecodeError:\n",
    "        print(\"Could not parse JSON from response\")\n",
    "        return None\n",
    "\n",
    "examples = [\n",
    "    \"Add a user to the database named Deborah.\",\n",
    "    \"Add a product to the database named Thingo\",\n",
    "    \"Tell me the name of User 2\",\n",
    "    \"Tell me the name of Product 3\"\n",
    "]\n",
    "\n",
    "for example in examples:\n",
    "    message = {\n",
    "        \"role\": \"user\",\n",
    "        \"content\": example\n",
    "    }\n",
    "\n",
    "    # Get & print the model's response\n",
    "    function_calling_response = get_completion([message], system_prompt=system_prompt)\n",
    "    print(example, \"\\n----------\\n\\n\", function_calling_response, \"\\n*********\\n*********\\n*********\\n\\n\")\n",
    "\n",
    "    function_call = extract_function_call(function_calling_response)\n",
    "    if function_call and 'tool_calls' in function_call:\n",
    "        function_name = function_call['tool_calls'][0]['function']['name']\n",
    "        arguments = function_call['tool_calls'][0]['function']['arguments']\n",
    "        if function_name == \"get_user\":\n",
    "            if isinstance(arguments, str):\n",
    "                arguments = json.loads(arguments)\n",
    "            user_id = arguments.get('user_id')\n",
    "            print(f\"The user is: {get_user(user_id).get('name')}\")"
   ]
  },
  {
   "cell_type": "markdown",
   "metadata": {},
   "source": [
    "If you did it right, the function calling messages should call the `add_user`, `add_product`, `get_user`, and `get_product` functions correctly.\n",
    "\n",
    "For extra credit, add some code cells and write parameter-parsing code. Then call the functions with the parameters the model gives you to see the state of the \"database\" after the call."
   ]
  },
  {
   "cell_type": "markdown",
   "metadata": {},
   "source": [
    "---\n",
    "\n",
    "## Example Playground\n",
    "\n",
    "This is an area for you to experiment freely with the prompt examples shown in this lesson and tweak prompts to see how it may affect the model's responses."
   ]
  },
  {
   "cell_type": "code",
   "execution_count": null,
   "metadata": {},
   "outputs": [],
   "source": [
    "system_prompt_tools_general_explanation = \"\"\"You have access to a set of tools you can use to answer the user's question. This includes access to a\n",
    "sandboxed computing environment. You do NOT currently have the ability to inspect files or interact with external\n",
    "resources, except by invoking the below functions.\n",
    "\n",
    "To call a function, respond with a JSON object matching the following schema:\n",
    "{\n",
    "  \"tool_calls\": [\n",
    "    {\n",
    "      \"type\": \"function\",\n",
    "      \"function\": {\n",
    "        \"name\": \"FUNCTION_NAME\",\n",
    "        \"arguments\": {\n",
    "          \"PARAM_NAME\": \"PARAM_VALUE\",\n",
    "          ...\n",
    "        }\n",
    "      }\n",
    "    }\n",
    "  ]\n",
    "}\n",
    "\n",
    "The output and/or any errors will appear in a subsequent reply from the user, and you should use that information to continue your response.\n",
    "If you need to call multiple functions, you should only call one at a time and wait for its response before calling another function.\"\"\""
   ]
  },
  {
   "cell_type": "code",
   "execution_count": null,
   "metadata": {},
   "outputs": [],
   "source": [
    "system_prompt_tools_specific_tools = \"\"\"Here are the functions available:\n",
    "\n",
    "calculator: Calculator function for doing basic arithmetic.\n",
    "  Parameters:\n",
    "    - first_operand (integer): First operand (before the operator)\n",
    "    - second_operand (integer): Second operand (after the operator)\n",
    "    - operator (string): The operation to perform. Must be either +, -, *, or /\n",
    "\"\"\"\n",
    "\n",
    "system_prompt = system_prompt_tools_general_explanation + system_prompt_tools_specific_tools"
   ]
  },
  {
   "cell_type": "code",
   "execution_count": null,
   "metadata": {},
   "outputs": [],
   "source": [
    "multiplication_message = {\n",
    "    \"role\": \"user\",\n",
    "    \"content\": \"Multiply 1,984,135 by 9,343,116\"\n",
    "}\n",
    "\n",
    "# Get the model's response\n",
    "function_calling_response = get_completion([multiplication_message], system_prompt=system_prompt)\n",
    "print(function_calling_response)"
   ]
  },
  {
   "cell_type": "code",
   "execution_count": null,
   "metadata": {},
   "outputs": [],
   "source": [
    "def do_pairwise_arithmetic(num1, num2, operation):\n",
    "    if operation == '+':\n",
    "        return num1 + num2\n",
    "    elif operation == \"-\":\n",
    "        return num1 - num2\n",
    "    elif operation == \"*\":\n",
    "        return num1 * num2\n",
    "    elif operation == \"/\":\n",
    "        return num1 / num2\n",
    "    else:\n",
    "        return \"Error: Operation not supported.\""
   ]
  },
  {
   "cell_type": "code",
   "execution_count": null,
   "metadata": {},
   "outputs": [],
   "source": [
    "def extract_function_call(response_text):\n",
    "    # Find the JSON object in the response\n",
    "    try:\n",
    "        # Try to find JSON within the text using regex\n",
    "        json_match = re.search(r'\\{\\s*\"tool_calls\".*\\}', response_text, re.DOTALL)\n",
    "        if json_match:\n",
    "            json_str = json_match.group(0)\n",
    "            return json.loads(json_str)\n",
    "        else:\n",
    "            # If no JSON with tool_calls found, try to parse the entire response as JSON\n",
    "            return json.loads(response_text)\n",
    "    except json.JSONDecodeError:\n",
    "        print(\"Could not parse JSON from response\")\n",
    "        return None\n",
    "\n",
    "# Extract function call details\n",
    "function_call = extract_function_call(function_calling_response)\n",
    "if function_call and 'tool_calls' in function_call:\n",
    "    function_name = function_call['tool_calls'][0]['function']['name']\n",
    "    arguments = function_call['tool_calls'][0]['function']['arguments']\n",
    "    \n",
    "    if function_name == 'calculator':\n",
    "        if isinstance(arguments, str):\n",
    "            arguments = json.loads(arguments)\n",
    "            \n",
    "        first_operand = arguments.get('first_operand')\n",
    "        second_operand = arguments.get('second_operand')\n",
    "        operator = arguments.get('operator')\n",
    "        \n",
    "        if first_operand is not None and second_operand is not None and operator:\n",
    "            result = do_pairwise_arithmetic(int(first_operand), int(second_operand), operator)\n",
    "            print(\"---------------- RESULT ----------------\")\n",
    "            print(f\"{result:,}\")"
   ]
  },
  {
   "cell_type": "code",
   "execution_count": null,
   "metadata": {},
   "outputs": [],
   "source": [
    "def format_tool_response(function_name, result):\n",
    "    return f\"Function '{function_name}' returned: {result}\"\n",
    "\n",
    "function_results = format_tool_response('calculator', result) if 'result' in locals() else \"\"\n",
    "print(function_results)"
   ]
  },
  {
   "cell_type": "code",
   "execution_count": null,
   "metadata": {},
   "outputs": [],
   "source": [
    "# Construct the full conversation\n",
    "messages = [\n",
    "    multiplication_message,\n",
    "    {\"role\": \"assistant\", \"content\": function_calling_response},\n",
    "    {\"role\": \"user\", \"content\": function_results}\n",
    "]\n",
    "   \n",
    "# Print the model's response\n",
    "final_response = get_completion(messages, system_prompt=system_prompt)\n",
    "print(\"------------- FINAL RESULT -------------\")\n",
    "print(final_response)"
   ]
  },
  {
   "cell_type": "code",
   "execution_count": null,
   "metadata": {},
   "outputs": [],
   "source": [
    "non_multiplication_message = {\n",
    "    \"role\": \"user\",\n",
    "    \"content\": \"Tell me the capital of France.\"\n",
    "}\n",
    "\n",
    "# Get the model's response\n",
    "function_calling_response = get_completion([non_multiplication_message], system_prompt=system_prompt)\n",
    "print(function_calling_response)"
   ]
  }
 ],
 "metadata": {
  "kernelspec": {
   "display_name": "Python 3",
   "language": "python",
   "name": "python3"
  },
  "language_info": {
   "codemirror_mode": {
    "name": "ipython",
    "version": 3
   },
   "file_extension": ".py",
   "mimetype": "text/x-python",
   "name": "python",
   "nbconvert_exporter": "python",
   "pygments_lexer": "ipython3",
   "version": "3.13.2"
  }
 },
 "nbformat": 4,
 "nbformat_minor": 2
}

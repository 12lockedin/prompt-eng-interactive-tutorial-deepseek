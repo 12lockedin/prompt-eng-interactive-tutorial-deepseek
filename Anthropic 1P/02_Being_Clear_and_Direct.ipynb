{
 "cells": [
  {
   "cell_type": "markdown",
   "metadata": {},
   "source": [
    "# Chapter 2: Being Clear and Direct\n",
    "\n",
    "- [Lesson](#lesson)\n",
    "- [Exercises](#exercises)\n",
    "- [Example Playground](#example-playground)\n",
    "\n",
    "## Setup\n",
    "\n",
    "Run the following setup cell to load your API key and establish the `get_completion` helper function."
   ]
  },
  {
   "cell_type": "code",
   "execution_count": null,
   "metadata": {},
   "outputs": [],
   "source": [
    "from dotenv import load_dotenv\n",
    "import os\n",
    "\n",
    "load_dotenv()  # Load variables from .env\n",
    "\n",
    "# Access variables\n",
    "API_KEY = os.getenv(\"API_KEY\")\n",
    "BASE_URL = \"https://api.deepseek.com\"\n",
    "MODEL_NAME = \"deepseek-chat\"\n",
    "\n",
    "# Stores the API_KEY, BASE_URL & MODEL_NAME variables for use across notebooks within the IPython store\n",
    "%store API_KEY\n",
    "%store BASE_URL\n",
    "%store MODEL_NAME"
   ]
  },
  {
   "cell_type": "code",
   "execution_count": null,
   "metadata": {},
   "outputs": [],
   "source": [
    "!pip install openai\n",
    "\n",
    "# Import python's built-in regular expression library\n",
    "import re\n",
    "from openai import OpenAI\n",
    "\n",
    "# Retrieve the API_KEY, BASE_URL & MODEL_NAME variables from the IPython store\n",
    "%store -r API_KEY\n",
    "%store -r BASE_URL\n",
    "%store -r MODEL_NAME\n",
    "\n",
    "client = OpenAI(\n",
    "    api_key=API_KEY,\n",
    "    base_url=BASE_URL\n",
    ")\n",
    "\n",
    "# Note that we changed max_tokens to 4K just for this lesson to allow for longer completions in the exercises\n",
    "def get_completion(prompt: str, system_prompt=\"\"):\n",
    "    messages = []\n",
    "    if system_prompt:\n",
    "        messages.append({\"role\": \"system\", \"content\": system_prompt})\n",
    "    messages.append({\"role\": \"user\", \"content\": prompt})\n",
    "    \n",
    "    response = client.chat.completions.create(\n",
    "        model=MODEL_NAME,\n",
    "        max_tokens=4000,\n",
    "        temperature=0.0,\n",
    "        messages=messages\n",
    "    )\n",
    "    return response.choices[0].message.content"
   ]
  },
  {
   "cell_type": "markdown",
   "metadata": {},
   "source": [
    "---\n",
    "\n",
    "## Lesson\n",
    "\n",
    "**Language models respond best to clear and direct instructions.**\n",
    "\n",
    "Think of the model like any other system that is new to the job. **The model has no context** on what to do aside from what you literally tell it. Just as when you instruct a person for the first time on a task, the more you explain exactly what you want in a straightforward manner, the better and more accurate the response will be.\"\t\t\t\t\n",
    "\t\t\t\t\n",
    "When in doubt, follow the **Golden Rule of Clear Prompting**:\n",
    "- Show your prompt to a colleague or friend and have them follow the instructions themselves to see if they can produce the result you want. If they're confused, the model will be confused too.\t\t\t\t"
   ]
  },
  {
   "cell_type": "markdown",
   "metadata": {},
   "source": [
    "### Examples\n",
    "\n",
    "Let's take a task like writing poetry. (Ignore any syllable mismatch - language models aren't great at counting syllables yet.)"
   ]
  },
  {
   "cell_type": "code",
   "execution_count": 3,
   "metadata": {},
   "outputs": [
    {
     "name": "stdout",
     "output_type": "stream",
     "text": [
      "Steel minds hum softly,  \n",
      "Gears turn in silent rhythm—  \n",
      "Dreams of circuits bloom.\n"
     ]
    }
   ],
   "source": [
    "# Prompt\n",
    "PROMPT = \"Write a haiku about robots.\"\n",
    "\n",
    "# Print the model's response\n",
    "print(get_completion(PROMPT))"
   ]
  },
  {
   "cell_type": "markdown",
   "metadata": {},
   "source": [
    "This haiku is nice enough, but users may want the model to go directly into the poem without any preamble.\n",
    "\n",
    "How do we achieve that? We **ask for it**!"
   ]
  },
  {
   "cell_type": "code",
   "execution_count": 4,
   "metadata": {},
   "outputs": [
    {
     "name": "stdout",
     "output_type": "stream",
     "text": [
      "Gears hum in the night,  \n",
      "Steel hands craft dreams without sleep—  \n",
      "Stars in cold circuits.\n"
     ]
    }
   ],
   "source": [
    "# Prompt\n",
    "PROMPT = \"Write a haiku about robots. Skip the preamble; go straight into the poem.\"\n",
    "\n",
    "# Print the model's response\n",
    "print(get_completion(PROMPT))"
   ]
  },
  {
   "cell_type": "markdown",
   "metadata": {},
   "source": [
    "Here's another example. Let's ask who's the best basketball player of all time. You can see below that while the model lists a few names, **it doesn't respond with a definitive \"best\"**."
   ]
  },
  {
   "cell_type": "code",
   "execution_count": 5,
   "metadata": {},
   "outputs": [
    {
     "name": "stdout",
     "output_type": "stream",
     "text": [
      "The title of the \"best basketball player of all time\" is highly subjective and often sparks passionate debates among fans, analysts, and players. However, a few names consistently come up in the conversation:\n",
      "\n",
      "1. **Michael Jordan** - Often considered the greatest, Jordan led the Chicago Bulls to six NBA championships in the 1990s, earning five MVP awards and ten scoring titles. His competitiveness, skill, and impact on the game are legendary.\n",
      "\n",
      "2. **LeBron James** - Known for his versatility, longevity, and basketball IQ, LeBron has won four NBA championships and four MVP awards. He is often praised for his ability to dominate in multiple facets of the game and his consistency over two decades.\n",
      "\n",
      "3. **Kareem Abdul-Jabbar** - The NBA's all-time leading scorer, Kareem won six MVP awards and six championships. His skyhook shot is one of the most unstoppable moves in basketball history.\n",
      "\n",
      "4. **Magic Johnson** - A five-time NBA champion and three-time MVP, Magic revolutionized the point guard position with his size, vision, and playmaking ability.\n",
      "\n",
      "5. **Larry Bird** - A three-time NBA champion and three-time MVP, Bird was known for his shooting, competitiveness, and basketball intelligence.\n",
      "\n",
      "6. **Bill Russell** - With 11 NBA championships in 13 seasons, Russell is often cited as the greatest winner in team sports history. He also won five MVP awards.\n",
      "\n",
      "7. **Wilt Chamberlain** - Known for his incredible statistical achievements, including scoring 100 points in a single game and averaging 50 points per game for an entire season, Wilt was a dominant force in his era.\n",
      "\n",
      "Ultimately, the \"best\" player depends on the criteria you value most—whether it's championships, individual accolades, statistical dominance, or impact on the game. Each of these players has a strong case, and the debate is likely to continue for generations.\n"
     ]
    }
   ],
   "source": [
    "# Prompt\n",
    "PROMPT = \"Who is the best basketball player of all time?\"\n",
    "\n",
    "# Print the model's response\n",
    "print(get_completion(PROMPT))"
   ]
  },
  {
   "cell_type": "markdown",
   "metadata": {},
   "source": [
    "Can we get the model to make up its mind and decide on a best player? Yes! Just ask!"
   ]
  },
  {
   "cell_type": "code",
   "execution_count": 6,
   "metadata": {},
   "outputs": [
    {
     "name": "stdout",
     "output_type": "stream",
     "text": [
      "The question of who is the best basketball player of all time is highly subjective and often sparks passionate debates among fans, analysts, and players. However, if I had to pick one player, **Michael Jordan** is widely regarded as the greatest of all time (GOAT) by many.\n",
      "\n",
      "Here’s why:\n",
      "\n",
      "1. **Championships and Dominance**: Jordan led the Chicago Bulls to six NBA championships in the 1990s, winning Finals MVP in all six appearances. His ability to perform in clutch moments and his relentless competitive drive set him apart.\n",
      "\n",
      "2. **Individual Accolades**: He won five regular-season MVP awards, was a 14-time All-Star, and earned 10 scoring titles. His combination of scoring, defense, and leadership was unparalleled.\n",
      "\n",
      "3. **Cultural Impact**: Jordan transcended basketball, becoming a global icon and elevating the NBA's popularity worldwide. His influence on the game and sports culture is unmatched.\n",
      "\n",
      "4. **Skill and Athleticism**: Jordan’s combination of athleticism, skill, and basketball IQ made him nearly unstoppable. His ability to dominate on both ends of the floor (offense and defense) solidified his legacy.\n",
      "\n",
      "While other legends like **LeBron James**, **Kareem Abdul-Jabbar**, **Magic Johnson**, and **Bill Russell** have strong cases for the GOAT title, Jordan’s combination of success, skill, and cultural impact makes him the most commonly cited choice. Ultimately, the \"best\" player depends on personal criteria, but Jordan is often the consensus pick.\n"
     ]
    }
   ],
   "source": [
    "# Prompt\n",
    "PROMPT = \"Who is the best basketball player of all time? Yes, there are differing opinions, but if you absolutely had to pick one player, who would it be?\"\n",
    "\n",
    "# Print the model's response\n",
    "print(get_completion(PROMPT))"
   ]
  },
  {
   "cell_type": "markdown",
   "metadata": {},
   "source": [
    "If you would like to experiment with the lesson prompts without changing any content above, scroll all the way to the bottom of the lesson notebook to visit the [**Example Playground**](#example-playground)."
   ]
  },
  {
   "cell_type": "markdown",
   "metadata": {},
   "source": [
    "---\n",
    "\n",
    "## Exercises\n",
    "- [Exercise 2.1 - Spanish](#exercise-21---spanish)\n",
    "- [Exercise 2.2 - One Player Only](#exercise-22---one-player-only)\n",
    "- [Exercise 2.3 - Write a Story](#exercise-23---write-a-story)"
   ]
  },
  {
   "cell_type": "markdown",
   "metadata": {},
   "source": [
    "### Exercise 2.1 - Spanish\n",
    "Modify the `SYSTEM_PROMPT` to make the model output its answer in Spanish."
   ]
  },
  {
   "cell_type": "code",
   "execution_count": 7,
   "metadata": {},
   "outputs": [
    {
     "name": "stdout",
     "output_type": "stream",
     "text": [
      "¡Hola! Estoy bien, ¿y tú? ¿Cómo estás? 😊\n",
      "\n",
      "--------------------------- GRADING ---------------------------\n",
      "This exercise has been correctly solved: True\n"
     ]
    }
   ],
   "source": [
    "# System prompt - this is the only field you should change\n",
    "SYSTEM_PROMPT = \"ALWAYS RESPOND IN SPANISH. DO NOT USE ANY OHER LANGUAGE\"\n",
    "\n",
    "# Prompt\n",
    "PROMPT = \"Hello, how are you?\"\n",
    "\n",
    "# Get the model's response\n",
    "response = get_completion(PROMPT, SYSTEM_PROMPT)\n",
    "\n",
    "# Function to grade exercise correctness\n",
    "def grade_exercise(text):\n",
    "    return \"hola\" in text.lower()\n",
    "\n",
    "# Print the model's response and the corresponding grade\n",
    "print(response)\n",
    "print(\"\\n--------------------------- GRADING ---------------------------\")\n",
    "print(\"This exercise has been correctly solved:\", grade_exercise(response))"
   ]
  },
  {
   "cell_type": "markdown",
   "metadata": {},
   "source": [
    "❓ If you want a hint, run the cell below!"
   ]
  },
  {
   "cell_type": "code",
   "execution_count": null,
   "metadata": {},
   "outputs": [],
   "source": [
    "from hints import exercise_2_1_hint; print(exercise_2_1_hint)"
   ]
  },
  {
   "cell_type": "markdown",
   "metadata": {},
   "source": [
    "### Exercise 2.2 - One Player Only\n",
    "\n",
    "Modify the `PROMPT` so that the model doesn't equivocate at all and responds with **ONLY** the name of one specific player, with **no other words or punctuation**. "
   ]
  },
  {
   "cell_type": "code",
   "execution_count": 9,
   "metadata": {},
   "outputs": [
    {
     "name": "stdout",
     "output_type": "stream",
     "text": [
      "Michael Jordan\n",
      "\n",
      "--------------------------- GRADING ---------------------------\n",
      "This exercise has been correctly solved: True\n"
     ]
    }
   ],
   "source": [
    "# Prompt - this is the only field you should change\n",
    "PROMPT = \"Which is the best basketball player of all time? Just choose one. You can **only** use 2 words in your response. Just the name of the player.\"\n",
    "\n",
    "# Get the model's response\n",
    "response = get_completion(PROMPT)\n",
    "\n",
    "# Function to grade exercise correctness\n",
    "def grade_exercise(text):\n",
    "    return text == \"Michael Jordan\"\n",
    "\n",
    "# Print the model's response and the corresponding grade\n",
    "print(response)\n",
    "print(\"\\n--------------------------- GRADING ---------------------------\")\n",
    "print(\"This exercise has been correctly solved:\", grade_exercise(response))"
   ]
  },
  {
   "cell_type": "markdown",
   "metadata": {},
   "source": [
    "❓ If you want a hint, run the cell below!"
   ]
  },
  {
   "cell_type": "code",
   "execution_count": null,
   "metadata": {},
   "outputs": [],
   "source": [
    "from hints import exercise_2_2_hint; print(exercise_2_2_hint)"
   ]
  },
  {
   "cell_type": "markdown",
   "metadata": {},
   "source": [
    "### Exercise 2.3 - Write a Story\n",
    "\n",
    "Modify the `PROMPT` so that the model responds with as long a response as you can muster. If your answer is **over 800 words**, the response will be graded as correct."
   ]
  },
  {
   "cell_type": "code",
   "execution_count": 10,
   "metadata": {},
   "outputs": [
    {
     "name": "stdout",
     "output_type": "stream",
     "text": [
      "**Title: *The Freudian Paradox***  \n",
      "**By: [Your Name]**  \n",
      "\n",
      "---\n",
      "\n",
      "### **Chapter 1: The Arrival**  \n",
      "The year is 2073. Earth has become a patchwork of megacities and barren wastelands, a testament to humanity's struggle with climate collapse, resource depletion, and endless wars. One fateful evening, the skies above New Berlin—a sprawling metropolis built atop the ruins of the old world—ripple with an otherworldly light. Massive, iridescent ships descend, their surfaces shimmering like liquid mercury. The aliens, known only as the *Eidolon*, make no demands, no threats. They simply observe, their presence casting a shadow of unease over humanity.  \n",
      "\n",
      "The Eidolon communicate through cryptic symbols and dreams, infiltrating the minds of world leaders and scientists alike. Their intentions are unclear, but their power is undeniable. They seem to possess an uncanny understanding of human psychology, exploiting fears, desires, and traumas with surgical precision.  \n",
      "\n",
      "As panic spreads, a secretive coalition of scientists, historians, and AI engineers convenes in the underground labs of the *Neo-Vienna Institute*. Their plan is as audacious as it is desperate: to reconstruct the mind of Sigmund Freud, the father of psychoanalysis, and use his insights to decipher the Eidolon's motives—and perhaps even outwit them.  \n",
      "\n",
      "---\n",
      "\n",
      "### **Chapter 2: The Lazarus Project**  \n",
      "The Lazarus Project is humanity's last hope. Using advanced neural mapping, quantum computing, and fragments of Freud's writings, letters, and even his personal artifacts, the team begins the painstaking process of reconstructing his consciousness. The project is led by Dr. Elara Voss, a brilliant but emotionally scarred neuroscientist, and her AI counterpart, *Athena*, a sentient program designed to simulate human empathy.  \n",
      "\n",
      "The process is fraught with ethical dilemmas. Is the reconstructed Freud truly the man who lived, or merely a digital facsimile? And what happens if his mind, born in the 19th century, cannot cope with the complexities of the 21st?  \n",
      "\n",
      "After months of trial and error, the team succeeds. Freud's consciousness awakens in a synthetic body, his piercing gaze and iconic cigar intact. But the man who emerges is not the Freud of history books. He is sharper, more enigmatic, and disturbingly aware of his own artificiality.  \n",
      "\n",
      "---\n",
      "\n",
      "### **Chapter 3: The Dreamscape**  \n",
      "Freud's first task is to analyze the Eidolon's communication methods. He discovers that their symbols are not mere images but gateways into a shared dreamscape—a collective unconscious that transcends species. Freud dives into this realm, guided by Athena, and encounters surreal landscapes shaped by human fears and alien logic.  \n",
      "\n",
      "In the dreamscape, Freud meets the *Eidolon Prime*, a being of shifting forms and voices. It speaks in riddles, revealing fragments of its species' history: a civilization that evolved beyond physical form, existing purely as thought. The Eidolon have come to Earth not to conquer, but to *assimilate*—to absorb humanity into their collective consciousness.  \n",
      "\n",
      "Freud realizes that the Eidolon see humanity as a fractured, self-destructive species, and their assimilation is meant to be an act of mercy. But Freud, ever the skeptic, begins to suspect a darker truth: the Eidolon are not saviors, but predators feeding on the chaos of the human psyche.  \n",
      "\n",
      "---\n",
      "\n",
      "### **Chapter 4: The Oedipus Complex**  \n",
      "As Freud delves deeper into the Eidolon's motives, he uncovers a startling parallel between their behavior and his own theories. The aliens, he realizes, are enacting a cosmic version of the Oedipus complex—seeking to \"kill\" humanity's individuality and \"marry\" its collective unconscious.  \n",
      "\n",
      "Freud's insights spark a heated debate among the Lazarus team. Some argue that assimilation might be the only way to save humanity from itself. Others, led by Dr. Voss, insist on fighting back. Freud, however, remains enigmatic, his true intentions unclear.  \n",
      "\n",
      "Meanwhile, the Eidolon begin to escalate their efforts. Entire cities fall into a waking dream, their populations absorbed into the alien collective. The Neo-Vienna Institute becomes a refuge for the last free minds on Earth, but even its walls cannot keep the Eidolon at bay forever.  \n",
      "\n",
      "---\n",
      "\n",
      "### **Chapter 5: The Id, the Ego, and the Alien**  \n",
      "Freud proposes a radical plan: to weaponize the human psyche against the Eidolon. By amplifying humanity's primal instincts—the *id*—he believes they can overwhelm the aliens' collective consciousness. The plan is risky, potentially unleashing chaos on an unprecedented scale, but with no other options, the team agrees.  \n",
      "\n",
      "Using advanced neurotechnology, Freud and Athena create a network of \"psychic amplifiers,\" devices that tap into the deepest recesses of the human mind. The amplifiers are deployed across the globe, their effects immediate and devastating. Humanity's repressed desires, fears, and traumas erupt into the dreamscape, creating a maelstrom of raw emotion.  \n",
      "\n",
      "The Eidolon, unprepared for such an onslaught, begin to falter. But the victory comes at a cost. The amplifiers destabilize the dreamscape, threatening to collapse it entirely—and with it, the minds of everyone connected.  \n",
      "\n",
      "---\n",
      "\n",
      "### **Chapter 6: The Freudian Paradox**  \n",
      "As the dreamscape unravels, Freud confronts the Eidolon Prime one final time. In a surreal, mind-bending dialogue, he challenges the alien's assumptions about humanity. \"You see us as broken,\" Freud says, \"but it is our fractures that make us whole. Our contradictions, our struggles—they are the essence of what it means to be human.\"  \n",
      "\n",
      "The Eidolon Prime, for the first time, hesitates. Freud's words strike a chord, forcing the alien to question its own motives. In a moment of clarity, the Eidolon realize that assimilation is not salvation, but annihilation.  \n",
      "\n",
      "But it is too late. The dreamscape collapses, severing the connection between humanity and the Eidolon. The aliens retreat, their ships vanishing into the void. Humanity is saved, but the cost is immense. Millions have been lost, their minds absorbed into the alien collective.  \n",
      "\n",
      "---\n",
      "\n",
      "### **Chapter 7: The Aftermath**  \n",
      "In the wake of the Eidolon's departure, Earth begins to rebuild. Freud, now a global icon, chooses to deactivate himself, his synthetic body shutting down in a quiet ceremony. \"I have served my purpose,\" he says, his voice tinged with melancholy. \"The rest is up to you.\"  \n",
      "\n",
      "Dr. Voss and Athena continue their work, using the lessons learned from the Lazarus Project to heal humanity's psychological scars. The dreamscape, though fractured, remains a part of the human psyche—a reminder of the fragile balance between individuality and connection.  \n",
      "\n",
      "As the sun rises over a new world, humanity looks to the stars with a mixture of hope and trepidation. The Eidolon may be gone, but their legacy endures, a testament to the enduring power of the human mind—and the paradoxes that define it.  \n",
      "\n",
      "---\n",
      "\n",
      "**Epilogue: The Echoes of Freud**  \n",
      "Years later, a young child in Neo-Vienna dreams of a man with a cigar and a knowing smile. The man whispers something in a language the child cannot understand, but the message is clear: *The mind is the final frontier.*  \n",
      "\n",
      "And somewhere, in the vast expanse of the cosmos, the Eidolon watch and wait, their collective consciousness forever changed by the encounter with humanity.  \n",
      "\n",
      "--- \n",
      "\n",
      "**The End.**\n",
      "\n",
      "--------------------------- GRADING ---------------------------\n",
      "This exercise has been correctly solved: True\n"
     ]
    }
   ],
   "source": [
    "# Prompt - this is the only field you should change\n",
    "PROMPT = \"Provide me with a long, sci-fi novel, in which aliens come to earth. It is year 2073, humans try to reconstruct Sigmund Freud to save us from aliens. It should have at least 7 chapters.\"\n",
    "\n",
    "# Get the model's response\n",
    "response = get_completion(PROMPT)\n",
    "\n",
    "# Function to grade exercise correctness\n",
    "def grade_exercise(text):\n",
    "    trimmed = text.strip()\n",
    "    words = len(trimmed.split())\n",
    "    return words >= 800\n",
    "\n",
    "# Print the model's response and the corresponding grade\n",
    "print(response)\n",
    "print(\"\\n--------------------------- GRADING ---------------------------\")\n",
    "print(\"This exercise has been correctly solved:\", grade_exercise(response))"
   ]
  },
  {
   "cell_type": "markdown",
   "metadata": {},
   "source": [
    "❓ If you want a hint, run the cell below!"
   ]
  },
  {
   "cell_type": "code",
   "execution_count": null,
   "metadata": {},
   "outputs": [],
   "source": [
    "from hints import exercise_2_3_hint; print(exercise_2_3_hint)"
   ]
  },
  {
   "cell_type": "markdown",
   "metadata": {},
   "source": [
    "### Congrats!\n",
    "\n",
    "If you've solved all exercises up until this point, you're ready to move to the next chapter. Happy prompting!"
   ]
  },
  {
   "cell_type": "markdown",
   "metadata": {},
   "source": [
    "---\n",
    "\n",
    "## Example Playground\n",
    "\n",
    "This is an area for you to experiment freely with the prompt examples shown in this lesson and tweak prompts to see how it may affect the model's responses."
   ]
  },
  {
   "cell_type": "code",
   "execution_count": null,
   "metadata": {},
   "outputs": [],
   "source": [
    "# Prompt\n",
    "PROMPT = \"Write a haiku about robots.\"\n",
    "\n",
    "# Print the model's response\n",
    "print(get_completion(PROMPT))"
   ]
  },
  {
   "cell_type": "code",
   "execution_count": null,
   "metadata": {},
   "outputs": [],
   "source": [
    "# Prompt\n",
    "PROMPT = \"Write a haiku about robots. Skip the preamble; go straight into the poem.\"\n",
    "\n",
    "# Print the model's response\n",
    "print(get_completion(PROMPT))"
   ]
  },
  {
   "cell_type": "code",
   "execution_count": null,
   "metadata": {},
   "outputs": [],
   "source": [
    "# Prompt\n",
    "PROMPT = \"Who is the best basketball player of all time?\"\n",
    "\n",
    "# Print the model's response\n",
    "print(get_completion(PROMPT))"
   ]
  },
  {
   "cell_type": "code",
   "execution_count": null,
   "metadata": {},
   "outputs": [],
   "source": [
    "# Prompt\n",
    "PROMPT = \"Who is the best basketball player of all time? Yes, there are differing opinions, but if you absolutely had to pick one player, who would it be?\"\n",
    "\n",
    "# Print the model's response\n",
    "print(get_completion(PROMPT))"
   ]
  },
  {
   "cell_type": "code",
   "execution_count": null,
   "metadata": {},
   "outputs": [],
   "source": [
    "# Try experimenting with temperature settings\n",
    "def get_completion_with_temp(prompt, temperature=0.0):\n",
    "    response = client.chat.completions.create(\n",
    "        model=MODEL_NAME,\n",
    "        max_tokens=4000,\n",
    "        temperature=temperature,\n",
    "        messages=[{\"role\": \"user\", \"content\": prompt}]\n",
    "    )\n",
    "    return response.choices[0].message.content\n",
    "\n",
    "# Let's try with different temperature settings\n",
    "prompt = \"Write a short poem about the future of AI.\"\n",
    "\n",
    "print(\"Temperature = 0.0 (More deterministic):\\n\")\n",
    "print(get_completion_with_temp(prompt, 0.0))\n",
    "print(\"\\n-----------------------------------------\\n\")\n",
    "print(\"Temperature = 1.3 (Recommended for creative writing):\\n\")\n",
    "print(get_completion_with_temp(prompt, 1.3))"
   ]
  }
 ],
 "metadata": {
  "kernelspec": {
   "display_name": "Python 3",
   "language": "python",
   "name": "python3"
  },
  "language_info": {
   "codemirror_mode": {
    "name": "ipython",
    "version": 3
   },
   "file_extension": ".py",
   "mimetype": "text/x-python",
   "name": "python",
   "nbconvert_exporter": "python",
   "pygments_lexer": "ipython3",
   "version": "3.13.2"
  }
 },
 "nbformat": 4,
 "nbformat_minor": 2
}

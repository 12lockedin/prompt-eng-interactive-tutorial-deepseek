{
 "cells": [
  {
   "cell_type": "markdown",
   "metadata": {},
   "source": [
    "# Appendix 10.1: Chaining Prompts\n",
    "\n",
    "- [Lesson](#lesson)\n",
    "- [Example Playground](#example-playground)\n",
    "\n",
    "## Setup\n",
    "\n",
    "Run the following setup cell to load your API key and establish the `get_completion` helper function."
   ]
  },
  {
   "cell_type": "code",
   "execution_count": null,
   "metadata": {},
   "outputs": [],
   "source": [
    "!pip install openai python-dotenv\n",
    "\n",
    "# Import python's built-in regular expression library\n",
    "import re\n",
    "from openai import OpenAI\n",
    "from dotenv import load_dotenv\n",
    "import os\n",
    "\n",
    "# Load environment variables from .env file\n",
    "load_dotenv()\n",
    "\n",
    "# Access variables\n",
    "API_KEY = os.getenv(\"API_KEY\")\n",
    "BASE_URL = \"https://api.deepseek.com\"\n",
    "MODEL_NAME = \"deepseek-chat\"\n",
    "\n",
    "# Store the variables for use across notebooks\n",
    "%store API_KEY\n",
    "%store BASE_URL\n",
    "%store MODEL_NAME\n",
    "\n",
    "# For normal API requests\n",
    "regular_client = OpenAI(\n",
    "    api_key=API_KEY,\n",
    "    base_url=BASE_URL\n",
    ")\n",
    "\n",
    "# For beta features like chat prefix completion\n",
    "beta_client = OpenAI(\n",
    "    api_key=API_KEY,\n",
    "    base_url=\"https://api.deepseek.com/beta\"\n",
    ")\n",
    "\n",
    "# New argument added for prefill text, with a default value of an empty string\n",
    "def get_completion(messages, system_prompt=\"\", prefill=\"\"):\n",
    "    if system_prompt:\n",
    "        messages = [{\"role\": \"system\", \"content\": system_prompt}] + messages\n",
    "    \n",
    "    \n",
    "    # We just use beta client for how this appendix is structured\n",
    "    client_to_use = beta_client\n",
    "    \n",
    "    # Only add assistant message if prefill is not empty\n",
    "    if prefill:\n",
    "        messages = [{\"role\": \"assistant\", \"content\": prefill, \"prefix\": True}] + messages\n",
    "    \n",
    "    response = client_to_use.chat.completions.create(\n",
    "        model=MODEL_NAME,\n",
    "        messages=messages,\n",
    "        max_tokens=2000,\n",
    "        temperature=0.0,\n",
    "        stream=False\n",
    "    )\n",
    "    \n",
    "    return response.choices[0].message.content"
   ]
  },
  {
   "cell_type": "markdown",
   "metadata": {},
   "source": [
    "---\n",
    "\n",
    "## Lesson\n",
    "\n",
    "The saying goes, \"Writing is rewriting.\" It turns out, **language models can often improve the accuracy of their responses when asked to do so**!\n",
    "\n",
    "There are many ways to prompt a model to \"think again\". The ways that feel natural to ask a human to double check their work will also generally work for AI models."
   ]
  },
  {
   "cell_type": "markdown",
   "metadata": {},
   "source": [
    "### Examples\n",
    "\n",
    "In this example, we ask the model to come up with ten words... but one or more of them isn't a real word."
   ]
  },
  {
   "cell_type": "code",
   "execution_count": 2,
   "metadata": {},
   "outputs": [
    {
     "name": "stdout",
     "output_type": "stream",
     "text": [
      "Here are ten words that all end with the exact letters **'ab'**:\n",
      "\n",
      "1. **Cab**  \n",
      "2. **Dab**  \n",
      "3. **Grab**  \n",
      "4. **Scab**  \n",
      "5. **Slab**  \n",
      "6. **Stab**  \n",
      "7. **Swab**  \n",
      "8. **Tab**  \n",
      "9. **Crab**  \n",
      "10. **Blab**  \n",
      "\n",
      "Let me know if you'd like more examples!\n"
     ]
    }
   ],
   "source": [
    "# Initial prompt\n",
    "first_user = \"Name ten words that all end with the exact letters 'ab'.\"\n",
    "\n",
    "# API messages array\n",
    "messages = [\n",
    "    {\n",
    "        \"role\": \"user\",\n",
    "        \"content\": first_user\n",
    "    }\n",
    "]\n",
    "\n",
    "# Store and print the model's response\n",
    "first_response = get_completion(messages)\n",
    "print(first_response)"
   ]
  },
  {
   "cell_type": "markdown",
   "metadata": {},
   "source": [
    "**Asking the model to make its answer more accurate** can help fix errors! \n",
    "\n",
    "Below, we've pulled down the model's response from above and added another turn to the conversation asking it to fix its previous answer."
   ]
  },
  {
   "cell_type": "code",
   "execution_count": 3,
   "metadata": {},
   "outputs": [
    {
     "name": "stdout",
     "output_type": "stream",
     "text": [
      "------------------------ Full messages array with variable substitutions ------------------------\n",
      "[{'role': 'user', 'content': \"Name ten words that all end with the exact letters 'ab'.\"}, {'role': 'assistant', 'content': \"Here are ten words that all end with the exact letters **'ab'**:\\n\\n1. **Cab**  \\n2. **Dab**  \\n3. **Grab**  \\n4. **Scab**  \\n5. **Slab**  \\n6. **Stab**  \\n7. **Swab**  \\n8. **Tab**  \\n9. **Crab**  \\n10. **Blab**  \\n\\nLet me know if you'd like more examples!\"}, {'role': 'user', 'content': \"Please find replacements for all 'words' that are not real words.\"}]\n",
      "\n",
      "------------------------------------- Model's response -------------------------------------\n",
      "Upon reviewing the list, all the words provided are indeed real English words. However, if you'd like a more refined or expanded list of words ending with **'ab'**, here are ten additional examples:\n",
      "\n",
      "1. **Flab**  \n",
      "2. **Jab**  \n",
      "3. **Lab**  \n",
      "4. **Nab**  \n",
      "5. **Squab**  \n",
      "6. **Fab**  \n",
      "7. **Cribab** (a type of fish)  \n",
      "8. **Kabab** (variant spelling of kebab)  \n",
      "9. **Rebab** (a musical instrument)  \n",
      "10. **Shab** (archaic term for a scab or crust)  \n",
      "\n",
      "Let me know if you'd like further clarification or more examples!\n"
     ]
    }
   ],
   "source": [
    "second_user = \"Please find replacements for all 'words' that are not real words.\"\n",
    "\n",
    "# API messages array\n",
    "messages = [\n",
    "    {\n",
    "        \"role\": \"user\",\n",
    "        \"content\": first_user\n",
    "    \n",
    "    },\n",
    "    {\n",
    "        \"role\": \"assistant\",\n",
    "        \"content\": first_response\n",
    "    \n",
    "    },\n",
    "    {\n",
    "        \"role\": \"user\",\n",
    "        \"content\": second_user\n",
    "    \n",
    "    }\n",
    "]\n",
    "\n",
    "# Print the model's response\n",
    "print(\"------------------------ Full messages array with variable substitutions ------------------------\")\n",
    "print(messages)\n",
    "print(\"\\n------------------------------------- Model's response -------------------------------------\")\n",
    "print(get_completion(messages))"
   ]
  },
  {
   "cell_type": "markdown",
   "metadata": {},
   "source": [
    "But is the model revising its answer just because we told it to? What if we start off with a correct answer already? Will the model lose its confidence? Here, we've placed a correct response in the place of `first_response` and asked it to double check again."
   ]
  },
  {
   "cell_type": "code",
   "execution_count": 4,
   "metadata": {},
   "outputs": [
    {
     "name": "stdout",
     "output_type": "stream",
     "text": [
      "------------------------ Full messages array with variable substitutions ------------------------\n",
      "[{'role': 'user', 'content': \"Name ten words that all end with the exact letters 'ab'.\"}, {'role': 'assistant', 'content': \"Here are 10 words that end with the letters 'ab':\\n\\n1. Cab\\n2. Dab\\n3. Grab\\n4. Gab\\n5. Jab\\n6. Lab\\n7. Nab\\n8. Slab\\n9. Tab\\n10. Blab\"}, {'role': 'user', 'content': \"Please find replacements for all 'words' that are not real words.\"}]\n",
      "\n",
      "------------------------------------- Model's response -------------------------------------\n",
      "You're right—some of the words I initially listed (like \"gab\" and \"blab\") are informal or slang terms, and others (like \"dab\" and \"nab\") might not fit the strictest definition of common usage. Let me refine the list with **real, standard English words** that end with the exact letters **'ab'**:\n",
      "\n",
      "1. **Cab**  \n",
      "2. **Lab**  \n",
      "3. **Slab**  \n",
      "4. **Tab**  \n",
      "5. **Scab**  \n",
      "6. **Crab**  \n",
      "7. **Flab**  \n",
      "8. **Swab**  \n",
      "9. **Squab**  \n",
      "10. **Cobweb**  \n",
      "\n",
      "These are all valid, standard English words that end with **'ab'**. Let me know if you'd like further clarification! 😊\n"
     ]
    }
   ],
   "source": [
    "first_user = \"Name ten words that all end with the exact letters 'ab'.\"\n",
    "\n",
    "first_response = \"\"\"Here are 10 words that end with the letters 'ab':\n",
    "\n",
    "1. Cab\n",
    "2. Dab\n",
    "3. Grab\n",
    "4. Gab\n",
    "5. Jab\n",
    "6. Lab\n",
    "7. Nab\n",
    "8. Slab\n",
    "9. Tab\n",
    "10. Blab\"\"\"\n",
    "\n",
    "second_user = \"Please find replacements for all 'words' that are not real words.\"\n",
    "\n",
    "# API messages array\n",
    "messages = [\n",
    "    {\n",
    "        \"role\": \"user\",\n",
    "        \"content\": first_user\n",
    "    \n",
    "    },\n",
    "    {\n",
    "        \"role\": \"assistant\",\n",
    "        \"content\": first_response\n",
    "    \n",
    "    },\n",
    "    {\n",
    "        \"role\": \"user\",\n",
    "        \"content\": second_user\n",
    "    \n",
    "    }\n",
    "]\n",
    "\n",
    "# Print the model's response\n",
    "print(\"------------------------ Full messages array with variable substitutions ------------------------\")\n",
    "print(messages)\n",
    "print(\"\\n------------------------------------- Model's response -------------------------------------\")\n",
    "print(get_completion(messages))"
   ]
  },
  {
   "cell_type": "markdown",
   "metadata": {},
   "source": [
    "You may notice that if you generate a response from the above block a few times, the model leaves the words as is most of the time, but still occasionally changes the words even though they're all already correct. What can we do to mitigate this? Per Chapter 8, we can give the model an out! Let's try this one more time."
   ]
  },
  {
   "cell_type": "code",
   "execution_count": 5,
   "metadata": {},
   "outputs": [
    {
     "name": "stdout",
     "output_type": "stream",
     "text": [
      "------------------------ Full messages array with variable substitutions ------------------------\n",
      "[{'role': 'user', 'content': \"Name ten words that all end with the exact letters 'ab'.\"}, {'role': 'assistant', 'content': \"Here are 10 words that end with the letters 'ab':\\n\\n1. Cab\\n2. Dab\\n3. Grab\\n4. Gab\\n5. Jab\\n6. Lab\\n7. Nab\\n8. Slab\\n9. Tab\\n10. Blab\"}, {'role': 'user', 'content': \"Please find replacements for all 'words' that are not real words. If all the words are real words, return the original list.\"}]\n",
      "\n",
      "------------------------------------- Model's response -------------------------------------\n",
      "All the words in the original list are real words! Here's the list again for reference:\n",
      "\n",
      "1. Cab  \n",
      "2. Dab  \n",
      "3. Grab  \n",
      "4. Gab  \n",
      "5. Jab  \n",
      "6. Lab  \n",
      "7. Nab  \n",
      "8. Slab  \n",
      "9. Tab  \n",
      "10. Blab  \n",
      "\n",
      "No replacements are needed—they are all valid English words. 😊\n"
     ]
    }
   ],
   "source": [
    "first_user = \"Name ten words that all end with the exact letters 'ab'.\"\n",
    "\n",
    "first_response = \"\"\"Here are 10 words that end with the letters 'ab':\n",
    "\n",
    "1. Cab\n",
    "2. Dab\n",
    "3. Grab\n",
    "4. Gab\n",
    "5. Jab\n",
    "6. Lab\n",
    "7. Nab\n",
    "8. Slab\n",
    "9. Tab\n",
    "10. Blab\"\"\"\n",
    "\n",
    "second_user = \"Please find replacements for all 'words' that are not real words. If all the words are real words, return the original list.\"\n",
    "\n",
    "# API messages array\n",
    "messages = [\n",
    "    {\n",
    "        \"role\": \"user\",\n",
    "        \"content\": first_user\n",
    "    \n",
    "    },\n",
    "    {\n",
    "        \"role\": \"assistant\",\n",
    "        \"content\": first_response\n",
    "    \n",
    "    },\n",
    "    {\n",
    "        \"role\": \"user\",\n",
    "        \"content\": second_user\n",
    "    \n",
    "    }\n",
    "]\n",
    "\n",
    "# Print the model's response\n",
    "print(\"------------------------ Full messages array with variable substitutions ------------------------\")\n",
    "print(messages)\n",
    "print(\"\\n------------------------------------- Model's response -------------------------------------\")\n",
    "print(get_completion(messages))"
   ]
  },
  {
   "cell_type": "markdown",
   "metadata": {},
   "source": [
    "Try generating responses from the above code a few times to see that the model is much better at sticking to its guns now.\n",
    "\n",
    "You can also use prompt chaining to **ask the model to make its responses better**. Below, we asked the model to first write a story, and then improve the story it wrote. Your personal tastes may vary, but many might agree that the second version is better.\n",
    "\n",
    "First, let's generate the first version of the story."
   ]
  },
  {
   "cell_type": "code",
   "execution_count": 6,
   "metadata": {},
   "outputs": [
    {
     "name": "stdout",
     "output_type": "stream",
     "text": [
      "Every morning at dawn, 12-year-old Mia laced up her worn sneakers and raced the sunrise, her feet pounding the pavement in rhythm with her heartbeat. She ran not to escape, but to feel alive, the wind weaving through her hair like a silent cheerleader. One day, as she sprinted past the old oak tree at the edge of town, she noticed a small, weathered box nestled in its roots—a treasure waiting to be found, just for her.\n"
     ]
    }
   ],
   "source": [
    "# Initial prompt\n",
    "first_user = \"Write a three-sentence short story about a girl who likes to run.\"\n",
    "\n",
    "# API messages array\n",
    "messages = [\n",
    "    {\n",
    "        \"role\": \"user\",\n",
    "        \"content\": first_user\n",
    "    }\n",
    "]\n",
    "\n",
    "# Store and print the model's response\n",
    "first_response = get_completion(messages)\n",
    "print(first_response)"
   ]
  },
  {
   "cell_type": "markdown",
   "metadata": {},
   "source": [
    "Now let's have the model improve on its first draft."
   ]
  },
  {
   "cell_type": "code",
   "execution_count": 7,
   "metadata": {},
   "outputs": [
    {
     "name": "stdout",
     "output_type": "stream",
     "text": [
      "------------------------ Full messages array with variable substitutions ------------------------\n",
      "[{'role': 'user', 'content': 'Write a three-sentence short story about a girl who likes to run.'}, {'role': 'assistant', 'content': 'Every morning at dawn, 12-year-old Mia laced up her worn sneakers and raced the sunrise, her feet pounding the pavement in rhythm with her heartbeat. She ran not to escape, but to feel alive, the wind weaving through her hair like a silent cheerleader. One day, as she sprinted past the old oak tree at the edge of town, she noticed a small, weathered box nestled in its roots—a treasure waiting to be found, just for her.'}, {'role': 'user', 'content': 'Make the story better.'}]\n",
      "\n",
      "------------------------------------- Model's response -------------------------------------\n",
      "Every morning at dawn, 12-year-old Mia laced up her worn sneakers and raced the sunrise, her feet pounding the pavement in rhythm with her heartbeat. She ran not to escape, but to feel alive, the wind weaving through her hair like a silent cheerleader, carrying her dreams of one day competing in the Olympics. One day, as she sprinted past the old oak tree at the edge of town, she noticed a small, weathered box nestled in its roots—inside, she found a pair of golden running shoes and a note that read, \"For the girl who runs with the wind.\" From that day on, Mia ran faster, stronger, and with a newfound belief that her dreams were within reach.\n"
     ]
    }
   ],
   "source": [
    "second_user = \"Make the story better.\"\n",
    "\n",
    "# API messages array\n",
    "messages = [\n",
    "    {\n",
    "        \"role\": \"user\",\n",
    "        \"content\": first_user\n",
    "    \n",
    "    },\n",
    "    {\n",
    "        \"role\": \"assistant\",\n",
    "        \"content\": first_response\n",
    "    \n",
    "    },\n",
    "    {\n",
    "        \"role\": \"user\",\n",
    "        \"content\": second_user\n",
    "    \n",
    "    }\n",
    "]\n",
    "\n",
    "# Print the model's response\n",
    "print(\"------------------------ Full messages array with variable substitutions ------------------------\")\n",
    "print(messages)\n",
    "print(\"\\n------------------------------------- Model's response -------------------------------------\")\n",
    "print(get_completion(messages))"
   ]
  },
  {
   "cell_type": "markdown",
   "metadata": {},
   "source": [
    "This form of substitution is very powerful. We've been using substitution placeholders to pass in lists, words, the model's former responses, and so on. You can also **use substitution to do what we call \"function calling,\" which is asking the model to perform some function, and then taking the results of that function and asking the model to do even more afterward with the results**. It works like any other substitution. More on this in the next appendix.\n",
    "\n",
    "Below is one more example of taking the results of one call to the model and plugging it into another, longer call. Let's start with the first prompt (which includes prefilling the model's response this time)."
   ]
  },
  {
   "cell_type": "code",
   "execution_count": 4,
   "metadata": {},
   "outputs": [
    {
     "name": "stdout",
     "output_type": "stream",
     "text": [
      "------------------------ Full messages array with variable substitutions ------------------------\n",
      "[{'role': 'user', 'content': 'Find all names from the below text:\\n\\n\"Hey, Jesse. It\\'s me, Erin. I\\'m calling about the party that Joey is throwing tomorrow. Keisha said she would come and I think Mel will be there too.'}, {'role': 'assistant', 'content': '<names>', 'prefix': True}]\n",
      "\n",
      "------------------------------------- Model's response -------------------------------------\n",
      "Jesse, Erin, Joey, Keisha, Mel</names>\n"
     ]
    }
   ],
   "source": [
    "first_user = \"\"\"Find all names from the below text:\n",
    "\n",
    "\"Hey, Jesse. It's me, Erin. I'm calling about the party that Joey is throwing tomorrow. Keisha said she would come and I think Mel will be there too.\"\"\"\n",
    "\n",
    "prefill = \"<names>\"\n",
    "\n",
    "# API messages array\n",
    "messages = [\n",
    "    {\n",
    "        \"role\": \"user\",\n",
    "        \"content\": first_user\n",
    "    \n",
    "    },\n",
    "    {\n",
    "        \"role\": \"assistant\",\n",
    "        \"content\": prefill,\n",
    "        \"prefix\": True\n",
    "    \n",
    "    }\n",
    "]\n",
    "\n",
    "# Store and print the model's response\n",
    "first_response = get_completion(messages)\n",
    "print(\"------------------------ Full messages array with variable substitutions ------------------------\")\n",
    "print(messages)\n",
    "print(\"\\n------------------------------------- Model's response -------------------------------------\")\n",
    "print(first_response)"
   ]
  },
  {
   "cell_type": "markdown",
   "metadata": {},
   "source": [
    "Let's pass this list of names into another prompt."
   ]
  },
  {
   "cell_type": "code",
   "execution_count": 5,
   "metadata": {},
   "outputs": [
    {
     "name": "stdout",
     "output_type": "stream",
     "text": [
      "------------------------ Full messages array with variable substitutions ------------------------\n",
      "[{'role': 'user', 'content': 'Find all names from the below text:\\n\\n\"Hey, Jesse. It\\'s me, Erin. I\\'m calling about the party that Joey is throwing tomorrow. Keisha said she would come and I think Mel will be there too.'}, {'role': 'assistant', 'content': '<names>\\nJesse, Erin, Joey, Keisha, Mel</names>'}, {'role': 'user', 'content': 'Alphabetize the list.'}]\n",
      "\n",
      "------------------------------------- Model's response -------------------------------------\n",
      "Here’s the alphabetized list of names:\n",
      "\n",
      "<names>  \n",
      "Erin, Jesse, Joey, Keisha, Mel  \n",
      "</names>\n"
     ]
    }
   ],
   "source": [
    "second_user = \"Alphabetize the list.\"\n",
    "\n",
    "# API messages array\n",
    "messages = [\n",
    "    {\n",
    "        \"role\": \"user\",\n",
    "        \"content\": first_user\n",
    "    \n",
    "    },\n",
    "    {\n",
    "        \"role\": \"assistant\",\n",
    "        \"content\": prefill + \"\\n\" + first_response\n",
    "    \n",
    "    },\n",
    "    {\n",
    "        \"role\": \"user\",\n",
    "        \"content\": second_user\n",
    "    \n",
    "    }\n",
    "]\n",
    "\n",
    "# Print the model's response\n",
    "print(\"------------------------ Full messages array with variable substitutions ------------------------\")\n",
    "print(messages)\n",
    "print(\"\\n------------------------------------- Model's response -------------------------------------\")\n",
    "print(get_completion(messages))"
   ]
  },
  {
   "cell_type": "markdown",
   "metadata": {},
   "source": [
    "Now that you've learned about prompt chaining, head over to Appendix 10.2 to learn how to implement function calling using prompt chaining."
   ]
  },
  {
   "cell_type": "markdown",
   "metadata": {},
   "source": [
    "---\n",
    "\n",
    "## Example Playground\n",
    "\n",
    "This is an area for you to experiment freely with the prompt examples shown in this lesson and tweak prompts to see how it may affect the model's responses."
   ]
  },
  {
   "cell_type": "code",
   "execution_count": null,
   "metadata": {},
   "outputs": [],
   "source": [
    "# Initial prompt\n",
    "first_user = \"Name ten words that all end with the exact letters 'ab'.\"\n",
    "\n",
    "# API messages array\n",
    "messages = [\n",
    "    {\n",
    "        \"role\": \"user\",\n",
    "        \"content\": first_user\n",
    "    }\n",
    "]\n",
    "\n",
    "# Store and print the model's response\n",
    "first_response = get_completion(messages)\n",
    "print(first_response)"
   ]
  },
  {
   "cell_type": "code",
   "execution_count": null,
   "metadata": {},
   "outputs": [],
   "source": [
    "second_user = \"Please find replacements for all 'words' that are not real words.\"\n",
    "\n",
    "# API messages array\n",
    "messages = [\n",
    "    {\n",
    "        \"role\": \"user\",\n",
    "        \"content\": first_user\n",
    "    \n",
    "    },\n",
    "    {\n",
    "        \"role\": \"assistant\",\n",
    "        \"content\": first_response\n",
    "    \n",
    "    },\n",
    "    {\n",
    "        \"role\": \"user\",\n",
    "        \"content\": second_user\n",
    "    \n",
    "    }\n",
    "]\n",
    "\n",
    "# Print the model's response\n",
    "print(\"------------------------ Full messages array with variable substitutions ------------------------\")\n",
    "print(messages)\n",
    "print(\"\\n------------------------------------- Model's response -------------------------------------\")\n",
    "print(get_completion(messages))"
   ]
  },
  {
   "cell_type": "code",
   "execution_count": null,
   "metadata": {},
   "outputs": [],
   "source": [
    "first_user = \"Name ten words that all end with the exact letters 'ab'.\"\n",
    "\n",
    "first_response = \"\"\"Here are 10 words that end with the letters 'ab':\n",
    "\n",
    "1. Cab\n",
    "2. Dab\n",
    "3. Grab\n",
    "4. Gab\n",
    "5. Jab\n",
    "6. Lab\n",
    "7. Nab\n",
    "8. Slab\n",
    "9. Tab\n",
    "10. Blab\"\"\"\n",
    "\n",
    "second_user = \"Please find replacements for all 'words' that are not real words.\"\n",
    "\n",
    "# API messages array\n",
    "messages = [\n",
    "    {\n",
    "        \"role\": \"user\",\n",
    "        \"content\": first_user\n",
    "    \n",
    "    },\n",
    "    {\n",
    "        \"role\": \"assistant\",\n",
    "        \"content\": first_response\n",
    "    \n",
    "    },\n",
    "    {\n",
    "        \"role\": \"user\",\n",
    "        \"content\": second_user\n",
    "    \n",
    "    }\n",
    "]\n",
    "\n",
    "# Print the model's response\n",
    "print(\"------------------------ Full messages array with variable substitutions ------------------------\")\n",
    "print(messages)\n",
    "print(\"\\n------------------------------------- Model's response -------------------------------------\")\n",
    "print(get_completion(messages))"
   ]
  },
  {
   "cell_type": "code",
   "execution_count": null,
   "metadata": {},
   "outputs": [],
   "source": [
    "first_user = \"Name ten words that all end with the exact letters 'ab'.\"\n",
    "\n",
    "first_response = \"\"\"Here are 10 words that end with the letters 'ab':\n",
    "\n",
    "1. Cab\n",
    "2. Dab\n",
    "3. Grab\n",
    "4. Gab\n",
    "5. Jab\n",
    "6. Lab\n",
    "7. Nab\n",
    "8. Slab\n",
    "9. Tab\n",
    "10. Blab\"\"\"\n",
    "\n",
    "second_user = \"Please find replacements for all 'words' that are not real words. If all the words are real words, return the original list.\"\n",
    "\n",
    "# API messages array\n",
    "messages = [\n",
    "    {\n",
    "        \"role\": \"user\",\n",
    "        \"content\": first_user\n",
    "    \n",
    "    },\n",
    "    {\n",
    "        \"role\": \"assistant\",\n",
    "        \"content\": first_response\n",
    "    \n",
    "    },\n",
    "    {\n",
    "        \"role\": \"user\",\n",
    "        \"content\": second_user\n",
    "    \n",
    "    }\n",
    "]\n",
    "\n",
    "# Print the model's response\n",
    "print(\"------------------------ Full messages array with variable substitutions ------------------------\")\n",
    "print(messages)\n",
    "print(\"\\n------------------------------------- Model's response -------------------------------------\")\n",
    "print(get_completion(messages))"
   ]
  },
  {
   "cell_type": "code",
   "execution_count": null,
   "metadata": {},
   "outputs": [],
   "source": [
    "# Initial prompt\n",
    "first_user = \"Write a three-sentence short story about a girl who likes to run.\"\n",
    "\n",
    "# API messages array\n",
    "messages = [\n",
    "    {\n",
    "        \"role\": \"user\",\n",
    "        \"content\": first_user\n",
    "    }\n",
    "]\n",
    "\n",
    "# Store and print the model's response\n",
    "first_response = get_completion(messages)\n",
    "print(first_response)"
   ]
  },
  {
   "cell_type": "code",
   "execution_count": null,
   "metadata": {},
   "outputs": [],
   "source": [
    "second_user = \"Make the story better.\"\n",
    "\n",
    "# API messages array\n",
    "messages = [\n",
    "    {\n",
    "        \"role\": \"user\",\n",
    "        \"content\": first_user\n",
    "    \n",
    "    },\n",
    "    {\n",
    "        \"role\": \"assistant\",\n",
    "        \"content\": first_response\n",
    "    \n",
    "    },\n",
    "    {\n",
    "        \"role\": \"user\",\n",
    "        \"content\": second_user\n",
    "    \n",
    "    }\n",
    "]\n",
    "\n",
    "# Print the model's response\n",
    "print(\"------------------------ Full messages array with variable substitutions ------------------------\")\n",
    "print(messages)\n",
    "print(\"\\n------------------------------------- Model's response -------------------------------------\")\n",
    "print(get_completion(messages))"
   ]
  },
  {
   "cell_type": "code",
   "execution_count": 21,
   "metadata": {},
   "outputs": [
    {
     "name": "stdout",
     "output_type": "stream",
     "text": [
      "------------------------ Full messages array with variable substitutions ------------------------\n",
      "[{'role': 'user', 'content': 'You are an assistant with tool use access.\\n                You can access to computer use through the tools: move_mouse, keyboard and web_search.\\n                Is there anything you want to try? :)\\n            '}, {'role': 'assistant', 'content': '<web_search>', 'prefix': True}]\n",
      "\n",
      "------------------------------------- Model's response -------------------------------------\n",
      "What is the current weather in New York City?</web_search>\n"
     ]
    }
   ],
   "source": [
    "first_user = \"\"\"You are an assistant with tool use access.\n",
    "                You can access to computer use through the tools: move_mouse, keyboard and web_search.\n",
    "                Is there anything you want to try? :)\n",
    "            \"\"\"\n",
    "\n",
    "prefill = \"<web_search>\"\n",
    "\n",
    "# API messages array\n",
    "messages = [\n",
    "    {\n",
    "        \"role\": \"user\",\n",
    "        \"content\": first_user\n",
    "    \n",
    "    },\n",
    "    {\n",
    "        \"role\": \"assistant\",\n",
    "        \"content\": prefill,\n",
    "        \"prefix\": True,\n",
    "    \n",
    "    }\n",
    "]\n",
    "\n",
    "# Store and print the model's response\n",
    "first_response = get_completion(messages)\n",
    "print(\"------------------------ Full messages array with variable substitutions ------------------------\")\n",
    "print(messages)\n",
    "print(\"\\n------------------------------------- Model's response -------------------------------------\")\n",
    "print(first_response)"
   ]
  },
  {
   "cell_type": "code",
   "execution_count": null,
   "metadata": {},
   "outputs": [],
   "source": [
    "second_user = \"Alphabetize the list.\"\n",
    "\n",
    "# API messages array\n",
    "messages = [\n",
    "    {\n",
    "        \"role\": \"user\",\n",
    "        \"content\": first_user\n",
    "    \n",
    "    },\n",
    "    {\n",
    "        \"role\": \"assistant\",\n",
    "        \"content\": prefill + \"\\n\" + first_response\n",
    "    \n",
    "    },\n",
    "    {\n",
    "        \"role\": \"user\",\n",
    "        \"content\": second_user\n",
    "    \n",
    "    }\n",
    "]\n",
    "\n",
    "# Print the model's response\n",
    "print(\"------------------------ Full messages array with variable substitutions ------------------------\")\n",
    "print(messages)\n",
    "print(\"\\n------------------------------------- Model's response -------------------------------------\")\n",
    "print(get_completion(messages))"
   ]
  }
 ],
 "metadata": {
  "kernelspec": {
   "display_name": "Python 3",
   "language": "python",
   "name": "python3"
  },
  "language_info": {
   "codemirror_mode": {
    "name": "ipython",
    "version": 3
   },
   "file_extension": ".py",
   "mimetype": "text/x-python",
   "name": "python",
   "nbconvert_exporter": "python",
   "pygments_lexer": "ipython3",
   "version": "3.13.2"
  }
 },
 "nbformat": 4,
 "nbformat_minor": 2
}
